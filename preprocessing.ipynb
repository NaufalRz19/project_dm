{
 "cells": [
  {
   "cell_type": "code",
   "execution_count": 1,
   "metadata": {},
   "outputs": [],
   "source": [
    "import numpy as np\n",
    "import matplotlib.pyplot as plt\n",
    "import pandas as pd"
   ]
  },
  {
   "cell_type": "code",
   "execution_count": 2,
   "metadata": {},
   "outputs": [],
   "source": [
    "dataset = pd.read_csv('wineQualityReds.csv')\n",
    "x = dataset.iloc[:, :-1].values\n",
    "y = dataset.iloc[:, -1].values"
   ]
  },
  {
   "cell_type": "code",
   "execution_count": 3,
   "metadata": {},
   "outputs": [
    {
     "name": "stdout",
     "output_type": "stream",
     "text": [
      "[[1.000e+00 7.400e+00 7.000e-01 ... 3.510e+00 5.600e-01 9.400e+00]\n",
      " [2.000e+00 7.800e+00 8.800e-01 ... 3.200e+00 6.800e-01 9.800e+00]\n",
      " [3.000e+00 7.800e+00 7.600e-01 ... 3.260e+00 6.500e-01 9.800e+00]\n",
      " ...\n",
      " [1.597e+03 6.300e+00 5.100e-01 ... 3.420e+00 7.500e-01 1.100e+01]\n",
      " [1.598e+03 5.900e+00 6.450e-01 ... 3.570e+00 7.100e-01 1.020e+01]\n",
      " [1.599e+03 6.000e+00 3.100e-01 ... 3.390e+00 6.600e-01 1.100e+01]]\n"
     ]
    }
   ],
   "source": [
    "print(x)"
   ]
  },
  {
   "cell_type": "code",
   "execution_count": 4,
   "metadata": {},
   "outputs": [
    {
     "name": "stdout",
     "output_type": "stream",
     "text": [
      "[5 5 5 ... 6 5 6]\n"
     ]
    }
   ],
   "source": [
    "print(y)"
   ]
  },
  {
   "cell_type": "code",
   "execution_count": 5,
   "metadata": {},
   "outputs": [],
   "source": [
    "from sklearn.model_selection import train_test_split\n",
    "x_train, x_test, y_train, y_test = train_test_split(x, y, test_size=0.2, random_state=1)"
   ]
  },
  {
   "cell_type": "code",
   "execution_count": 6,
   "metadata": {},
   "outputs": [
    {
     "name": "stdout",
     "output_type": "stream",
     "text": [
      "[[7.020e+02 7.000e+00 6.500e-01 ... 3.470e+00 6.700e-01 9.500e+00]\n",
      " [5.700e+01 1.020e+01 4.200e-01 ... 3.040e+00 6.300e-01 9.600e+00]\n",
      " [1.430e+02 5.200e+00 3.400e-01 ... 3.680e+00 7.900e-01 1.400e+01]\n",
      " ...\n",
      " [1.097e+03 6.600e+00 7.250e-01 ... 3.350e+00 4.900e-01 1.080e+01]\n",
      " [2.360e+02 7.200e+00 6.300e-01 ... 3.370e+00 5.800e-01 9.000e+00]\n",
      " [1.062e+03 9.100e+00 4.000e-01 ... 3.210e+00 6.900e-01 1.250e+01]]\n"
     ]
    }
   ],
   "source": [
    "print(x_train)"
   ]
  },
  {
   "cell_type": "code",
   "execution_count": 7,
   "metadata": {},
   "outputs": [
    {
     "name": "stdout",
     "output_type": "stream",
     "text": [
      "[[7.600e+01 8.800e+00 4.100e-01 ... 3.540e+00 6.600e-01 1.050e+01]\n",
      " [1.284e+03 8.700e+00 6.300e-01 ... 3.260e+00 6.300e-01 1.020e+01]\n",
      " [4.090e+02 1.040e+01 3.400e-01 ... 3.190e+00 7.000e-01 1.130e+01]\n",
      " ...\n",
      " [1.552e+03 7.100e+00 6.700e-01 ... 3.440e+00 5.400e-01 9.400e+00]\n",
      " [1.210e+03 6.200e+00 3.900e-01 ... 3.450e+00 8.700e-01 1.120e+01]\n",
      " [1.221e+03 1.090e+01 3.200e-01 ... 3.280e+00 7.700e-01 1.150e+01]]\n"
     ]
    }
   ],
   "source": [
    "print(x_test)"
   ]
  },
  {
   "cell_type": "code",
   "execution_count": 8,
   "metadata": {},
   "outputs": [
    {
     "name": "stdout",
     "output_type": "stream",
     "text": [
      "[6 5 6 ... 6 6 8]\n"
     ]
    }
   ],
   "source": [
    "print(y_train)"
   ]
  },
  {
   "cell_type": "code",
   "execution_count": 9,
   "metadata": {},
   "outputs": [
    {
     "name": "stdout",
     "output_type": "stream",
     "text": [
      "[5 6 6 6 6 6 6 5 5 5 6 6 6 6 6 5 6 5 5 5 6 6 5 6 6 6 6 6 6 7 6 6 5 6 5 6 5\n",
      " 7 6 5 6 5 5 6 5 6 5 5 5 6 5 4 7 5 5 6 6 6 5 5 5 6 5 6 5 6 7 6 6 6 5 6 6 6\n",
      " 5 5 6 6 5 6 5 5 5 6 5 5 5 7 5 6 5 7 5 6 5 5 6 5 3 6 5 5 5 5 5 5 6 6 5 6 7\n",
      " 5 6 6 5 7 5 5 5 5 4 7 7 5 5 5 6 5 7 7 6 5 7 5 6 7 5 7 6 6 5 6 6 5 6 6 6 5\n",
      " 6 6 6 6 5 6 5 7 5 6 6 6 8 6 5 5 6 6 4 5 5 6 6 6 4 7 5 6 5 5 5 5 6 6 5 6 6\n",
      " 6 7 6 4 6 5 6 6 5 6 5 4 5 6 5 7 5 7 5 7 6 5 5 6 5 5 7 5 6 5 6 5 5 7 6 5 6\n",
      " 5 5 6 5 4 7 7 7 6 6 7 6 6 6 6 6 5 4 6 5 7 6 6 8 6 5 5 5 5 4 6 6 6 5 5 4 5\n",
      " 5 6 5 5 5 4 6 5 5 6 6 5 6 5 6 6 5 5 6 5 5 6 4 4 5 6 5 6 5 5 5 6 6 6 5 6 7\n",
      " 5 5 5 5 6 6 5 5 6 6 5 5 5 5 5 5 6 6 6 5 5 5 7 6]\n"
     ]
    }
   ],
   "source": [
    "print(y_test)"
   ]
  },
  {
   "cell_type": "code",
   "execution_count": 10,
   "metadata": {},
   "outputs": [],
   "source": [
    "from sklearn.preprocessing import StandardScaler\n",
    "sc = StandardScaler()\n",
    "x_train[:, 3:] = sc.fit_transform(x_train[:, 3:])\n",
    "x_test[:, 3:] = sc.transform(x_test[:, 3:])"
   ]
  },
  {
   "cell_type": "code",
   "execution_count": 11,
   "metadata": {},
   "outputs": [
    {
     "name": "stdout",
     "output_type": "stream",
     "text": [
      "[[ 7.02000000e+02  7.00000000e+00  6.50000000e-01 ...  9.88460458e-01\n",
      "   6.30946034e-02 -8.72233948e-01]\n",
      " [ 5.70000000e+01  1.02000000e+01  4.20000000e-01 ... -1.75351270e+00\n",
      "  -1.73903921e-01 -7.79784522e-01]\n",
      " [ 1.43000000e+02  5.20000000e+00  3.40000000e-01 ...  2.32756363e+00\n",
      "   7.74090178e-01  3.28799021e+00]\n",
      " ...\n",
      " [ 1.09700000e+03  6.60000000e+00  7.25000000e-01 ...  2.23258647e-01\n",
      "  -1.00339876e+00  3.29608585e-01]\n",
      " [ 2.36000000e+02  7.20000000e+00  6.30000000e-01 ...  3.50792282e-01\n",
      "  -4.70152078e-01 -1.33448108e+00]\n",
      " [ 1.06200000e+03  9.10000000e+00  4.00000000e-01 ... -6.69476800e-01\n",
      "   1.81593866e-01  1.90124882e+00]]\n"
     ]
    }
   ],
   "source": [
    "print(x_train)"
   ]
  },
  {
   "cell_type": "code",
   "execution_count": 12,
   "metadata": {},
   "outputs": [
    {
     "name": "stdout",
     "output_type": "stream",
     "text": [
      "[[ 7.60000000e+01  8.80000000e+00  4.10000000e-01 ...  1.43482818e+00\n",
      "   3.84497216e-03  5.22603086e-02]\n",
      " [ 1.28400000e+03  8.70000000e+00  6.30000000e-01 ... -3.50642712e-01\n",
      "  -1.73903921e-01 -2.25087968e-01]\n",
      " [ 4.09000000e+02  1.04000000e+01  3.40000000e-01 ... -7.97010435e-01\n",
      "   2.40843497e-01  7.91855714e-01]\n",
      " ...\n",
      " [ 1.55200000e+03  7.10000000e+00  6.70000000e-01 ...  7.97160005e-01\n",
      "  -7.07150602e-01 -9.64683373e-01]\n",
      " [ 1.21000000e+03  6.20000000e+00  3.90000000e-01 ...  8.60926823e-01\n",
      "   1.24808723e+00  6.99406288e-01]\n",
      " [ 1.22100000e+03  1.09000000e+01  3.20000000e-01 ... -2.23109076e-01\n",
      "   6.55590915e-01  9.76754565e-01]]\n"
     ]
    }
   ],
   "source": [
    "print(x_test)"
   ]
  }
 ],
 "metadata": {
  "kernelspec": {
   "display_name": "Python 3.9.12 ('base')",
   "language": "python",
   "name": "python3"
  },
  "language_info": {
   "codemirror_mode": {
    "name": "ipython",
    "version": 3
   },
   "file_extension": ".py",
   "mimetype": "text/x-python",
   "name": "python",
   "nbconvert_exporter": "python",
   "pygments_lexer": "ipython3",
   "version": "3.9.12"
  },
  "orig_nbformat": 4,
  "vscode": {
   "interpreter": {
    "hash": "fd6fa5411d33f3ba4ab4aa3c7bf9f9acd02f1161913956c9724b1c13f7c3c665"
   }
  }
 },
 "nbformat": 4,
 "nbformat_minor": 2
}
